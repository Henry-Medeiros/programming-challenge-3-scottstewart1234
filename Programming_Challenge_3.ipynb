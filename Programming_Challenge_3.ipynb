{
  "nbformat": 4,
  "nbformat_minor": 0,
  "metadata": {
    "colab": {
      "name": "Programming Challenge #3.ipynb",
      "provenance": [],
      "collapsed_sections": [],
      "authorship_tag": "ABX9TyNQ1iFkdQBvboBMvc1+TFvh",
      "include_colab_link": true
    },
    "kernelspec": {
      "name": "python3",
      "display_name": "Python 3"
    }
  },
  "cells": [
    {
      "cell_type": "markdown",
      "metadata": {
        "id": "view-in-github",
        "colab_type": "text"
      },
      "source": [
        "<a href=\"https://colab.research.google.com/github/Henry-Medeiros/programming-challenge-3/blob/main/Programming_Challenge_3.ipynb\" target=\"_parent\"><img src=\"https://colab.research.google.com/assets/colab-badge.svg\" alt=\"Open In Colab\"/></a>"
      ]
    },
    {
      "cell_type": "code",
      "metadata": {
        "id": "jdIPazVz_HvP"
      },
      "source": [
        "# The image below corresponds to a snapshot of single cell organisms observed with a microscope\n",
        "import cv2\n",
        "import matplotlib.pyplot as plt\n",
        "\n",
        "!wget \"https://raw.githubusercontent.com/Henry-Medeiros/images/master/organisms.jpg\"\n",
        "img = cv2.imread('organisms.jpg')\n",
        "img = cv2.cvtColor(img, cv2.COLOR_BGR2GRAY, 0) \n",
        "\n",
        "# visualization only\n",
        "plt.imshow(img, 'gray')\n",
        "plt.title('Original image')\n",
        "plt.show()"
      ],
      "execution_count": null,
      "outputs": []
    },
    {
      "cell_type": "code",
      "metadata": {
        "id": "WcdNZip0_fpu"
      },
      "source": [
        "# Binarize the image to separate the organisms from the background\n",
        "# Hint 1: You may need to remove some high-frequency noise from the image \n",
        "# before thresholding\n",
        "# Hint 2: The background illumination in the image varies significantly, so a \n",
        "# single treshold for the entire will not work"
      ],
      "execution_count": null,
      "outputs": []
    },
    {
      "cell_type": "code",
      "metadata": {
        "id": "XBsCmqNe_2zu"
      },
      "source": [
        "# Locate and plot the organisms present in the image\n",
        "# Hint 3: You will need to apply a morphological filter to your binarized image \n",
        "# to remove spurious pixels left over by the binarization step\n",
        "# morphological filter to close the objects"
      ],
      "execution_count": 10,
      "outputs": []
    },
    {
      "cell_type": "code",
      "metadata": {
        "id": "UBoDMkKMBHJq"
      },
      "source": [
        "# Count the the number of organisms present in the image and compute their \n",
        "# average area in pixels"
      ],
      "execution_count": null,
      "outputs": []
    }
  ]
}